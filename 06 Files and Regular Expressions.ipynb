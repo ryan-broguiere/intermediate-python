{
 "cells": [
  {
   "cell_type": "markdown",
   "metadata": {
    "slideshow": {
     "slide_type": "slide"
    }
   },
   "source": [
    "# Files and Regular Expressions"
   ]
  },
  {
   "cell_type": "code",
   "execution_count": 1,
   "metadata": {
    "slideshow": {
     "slide_type": "subslide"
    }
   },
   "outputs": [
    {
     "name": "stdout",
     "output_type": "stream",
     "text": [
      "match found!\n"
     ]
    }
   ],
   "source": [
    "import re \n",
    "if re.match('a.*b', 'alphabet'):\n",
    "    print('match found!')"
   ]
  },
  {
   "cell_type": "code",
   "execution_count": 5,
   "metadata": {},
   "outputs": [],
   "source": [
    "# match() only matches at beginning of string\n",
    "if re.match('l.*b', 'alphabet'):\n",
    "    print('match found!')"
   ]
  },
  {
   "cell_type": "code",
   "execution_count": 6,
   "metadata": {},
   "outputs": [
    {
     "name": "stdout",
     "output_type": "stream",
     "text": [
      "match found!\n"
     ]
    }
   ],
   "source": [
    "o = re.search('l.*e', 'alphabet')\n",
    "if o:\n",
    "    print('match found!')"
   ]
  },
  {
   "cell_type": "code",
   "execution_count": 7,
   "metadata": {},
   "outputs": [
    {
     "data": {
      "text/plain": [
       "('l.*e', 'alphabet')"
      ]
     },
     "execution_count": 7,
     "metadata": {},
     "output_type": "execute_result"
    }
   ],
   "source": [
    "o.re.pattern, o.string"
   ]
  },
  {
   "cell_type": "code",
   "execution_count": 5,
   "metadata": {},
   "outputs": [
    {
     "data": {
      "text/plain": [
       "(1, 7)"
      ]
     },
     "execution_count": 5,
     "metadata": {},
     "output_type": "execute_result"
    }
   ],
   "source": [
    "o.start(), o.end()"
   ]
  },
  {
   "cell_type": "code",
   "execution_count": 6,
   "metadata": {},
   "outputs": [
    {
     "data": {
      "text/plain": [
       "'lphabe'"
      ]
     },
     "execution_count": 6,
     "metadata": {},
     "output_type": "execute_result"
    }
   ],
   "source": [
    "o.string[o.start():o.end()]"
   ]
  },
  {
   "cell_type": "code",
   "execution_count": 8,
   "metadata": {},
   "outputs": [
    {
     "name": "stdout",
     "output_type": "stream",
     "text": [
      "TWO roads diverged in a yellow wood,\t\r\n",
      "And sorry I could not travel both\t\r\n",
      "And be one traveler, long I stood\t\r\n",
      "And looked down one as far as I could\t\r\n",
      "To where it bent in the undergrowth;\r\n",
      " \r\n",
      "Then took the other, as just as fair,\t\r\n",
      "And having perhaps the better claim,\t\r\n",
      "Because it was grassy and wanted wear;\t\r\n",
      "Though as for that the passing there\t\r\n",
      "Had worn them really about the same,\r\n",
      " \r\n",
      "And both that morning equally lay\t\r\n",
      "In leaves no step had trodden black.\t\r\n",
      "Oh, I kept the first for another day!\t\r\n",
      "Yet knowing how way leads on to way,\t\r\n",
      "I doubted if I should ever come back.\r\n",
      " \r\n",
      "I shall be telling this with a sigh\t\r\n",
      "Somewhere ages and ages hence:\t\r\n",
      "Two roads diverged in a wood, and I—\t\r\n",
      "I took the one less traveled by,\t\r\n",
      "And that has made all the difference.\r\n"
     ]
    }
   ],
   "source": [
    "!cat poem.txt"
   ]
  },
  {
   "cell_type": "code",
   "execution_count": 13,
   "metadata": {},
   "outputs": [
    {
     "name": "stdout",
     "output_type": "stream",
     "text": [
      "5: To where it bent in --- undergrowth;\n",
      "7: Then took --- o---r, as just as fair,\t\n",
      "8: And having perhaps --- better claim,\t\n",
      "10: Though as for that --- passing ---re\t\n",
      "11: Had worn ---m really about --- same,\n",
      "15: Oh, I kept --- first for ano---r day!\t\n",
      "22: I took --- one less traveled by,\t\n",
      "23: And that has made all --- difference.\n"
     ]
    }
   ],
   "source": [
    "import re\n",
    "linenum = 0\n",
    "with open('poem.txt') as poem:\n",
    "    for line in poem:\n",
    "        linenum += 1\n",
    "        if re.search('the', line):\n",
    "            print(f\"{linenum}: {re.sub('the', '---', line)}\", end='')"
   ]
  },
  {
   "cell_type": "markdown",
   "metadata": {},
   "source": [
    "* When opening a file, can set a variable to result of `open()`\n",
    "* Requires explicit `close()` to correctly manage files\n",
    "* Use the `with` structure (as outlined above) to automatically close\n",
    "* Use `read()` method to read file in its entirety as a string\n",
    "* Provide a size \"hint\" to read to absorb file contents in \"chunks\""
   ]
  },
  {
   "cell_type": "code",
   "execution_count": 10,
   "metadata": {},
   "outputs": [
    {
     "name": "stdout",
     "output_type": "stream",
     "text": [
      "TWO roads diverged in a yellow wood,\t\n",
      "And sorry I could not travel both\t\n",
      "And be one traveler, long I stood\t\n",
      "And looked down one as far as I could\t\n",
      "To where it bent in the undergrowth;\n",
      " \n",
      "Then took the other, as just as fair,\t\n",
      "And having perhaps the better claim,\t\n",
      "Because it was grassy and wanted wear;\t\n",
      "Though as for that the passing there\t\n",
      "Had worn them really about the same,\n",
      " \n",
      "And both that morning equally lay\t\n",
      "In leaves no step had trodden black.\t\n",
      "Oh, I kept the first for another day!\t\n",
      "Yet knowing how way leads on to way,\t\n",
      "I doubted if I should ever come back.\n",
      " \n",
      "I shall be telling this with a sigh\t\n",
      "Somewhere ages and ages hence:\t\n",
      "Two roads diverged in a wood, and I—\t\n",
      "I took the one less traveled by,\t\n",
      "And that has made all the difference.\n",
      "\n"
     ]
    }
   ],
   "source": [
    "with open('poem.txt') as file:\n",
    "    data = file.read()\n",
    "print(data)"
   ]
  },
  {
   "cell_type": "code",
   "execution_count": 11,
   "metadata": {},
   "outputs": [
    {
     "name": "stdout",
     "output_type": "stream",
     "text": [
      "TWO roads diverged in a yellow wood,\t\n",
      "And sorry I could not travel both\t\n",
      "And be one traveler, long I stood\t\n",
      "And looked down one as far as I could\t\n",
      "To where it bent in the undergrowth;\n",
      " \n",
      "Then took the other, as just as fair,\t\n",
      "And having perhaps the better claim,\t\n",
      "Because it was grassy and wanted wear;\t\n",
      "Though as for that the passing there\t\n",
      "Had worn them really about the same,\n",
      " \n",
      "And both that morning equally lay\t\n",
      "In leaves no step had trodden black.\t\n",
      "Oh, I kept the first for another day!\t\n",
      "Yet knowing how way leads on to way,\t\n",
      "I doubted if I should ever come back.\n",
      " \n",
      "I shall be telling this with a sigh\t\n",
      "Somewhere ages and ages hence:\t\n",
      "Two roads diverged in a wood, and I—\t\n",
      "I took the one less traveled by,\t\n",
      "And that has made all the difference.\n"
     ]
    }
   ],
   "source": [
    "with open('poem.txt') as file:\n",
    "    while (chunk := file.read(500)):\n",
    "        print(chunk, end = '')"
   ]
  },
  {
   "cell_type": "markdown",
   "metadata": {},
   "source": [
    "## Exercise One\n",
    "\n",
    "* Write a Python program to read a file and count the number of occurrences of each word in the file\n",
    "* Use a dictionary indexed by word, to count the occurrences\n",
    "* Treat `The` and `the` as the same word when counting\n",
    "* EXTRA: remove punctuation, so Hamlet, == Hamlet\n",
    "* Test on Shakespeare's Hamlet (http://bit.ly/BillShak)"
   ]
  },
  {
   "cell_type": "markdown",
   "metadata": {},
   "source": [
    "## Exercise Two\n",
    "\n",
    "* Let's write a function which takes a word as an argument and outputs the plural of that word\n",
    "* The program should follow these rules:\n",
    "    - If the word ends in 's', 'x', or 'z', the plural adds 'es', e.g., ax => axes, loss => losses\n",
    "    - If the word ends in an 'h', which is not preceded by a vowel or 'd', 'g', 'k', 'p', 'r', or 't', the plural adds 'es', e.g., moth => moths, but match => matches\n",
    "    - If the word ends in a 'y' which is not preceded by a vowel, then the plural strips the 'y' and adds 'ies', e.g., baby => babies, but boy => boys\n",
    "    - Otherwise just add 's'\n",
    "* Prompt the user for a string and pass through runction\n",
    "* Output results to verify"
   ]
  }
 ],
 "metadata": {
  "celltoolbar": "Slideshow",
  "interpreter": {
   "hash": "8464311b6cd02531cc83d752491de256d0b522e7c388c7b72d58a29deff5d2dd"
  },
  "kernelspec": {
   "display_name": "Python 3 (ipykernel)",
   "language": "python",
   "name": "python3"
  },
  "language_info": {
   "codemirror_mode": {
    "name": "ipython",
    "version": 3
   },
   "file_extension": ".py",
   "mimetype": "text/x-python",
   "name": "python",
   "nbconvert_exporter": "python",
   "pygments_lexer": "ipython3",
   "version": "3.8.10"
  }
 },
 "nbformat": 4,
 "nbformat_minor": 1
}
