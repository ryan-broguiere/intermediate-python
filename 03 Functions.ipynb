{
 "cells": [
  {
   "cell_type": "markdown",
   "metadata": {
    "slideshow": {
     "slide_type": "slide"
    }
   },
   "source": [
    "# Python Functions"
   ]
  },
  {
   "cell_type": "markdown",
   "metadata": {
    "slideshow": {
     "slide_type": "subslide"
    }
   },
   "source": [
    "## Functions\n",
    "\n",
    "* Starts with keyword `def`\n",
    "* Function is given a name\n",
    "* Can include zero or more parameters for passing data in\n",
    "* To invoke, use name + arguments in parenthese"
   ]
  },
  {
   "cell_type": "code",
   "execution_count": null,
   "metadata": {},
   "outputs": [
    {
     "ename": "",
     "evalue": "",
     "output_type": "error",
     "traceback": [
      "\u001b[1;31mFailed to start the Kernel. \n",
      "\u001b[1;31mOSError: [WinError 123] The filename, directory name, or volume label syntax is incorrect: '\"c:'. \n",
      "\u001b[1;31mView Jupyter <a href='command:jupyter.viewOutput'>log</a> for further details."
     ]
    }
   ],
   "source": [
    "def myfunc(x):\n",
    "    print('do something', x)\n",
    "    if x == 1:\n",
    "        return True\n",
    "    else:\n",
    "        return 'abc'\n",
    "    \n",
    "print(myfunc(2))"
   ]
  },
  {
   "cell_type": "markdown",
   "metadata": {},
   "source": [
    "## Documentation strings\n",
    "\n",
    "* Often functions will include documentation strings as first statement\n",
    "* Provides info about the function's intent\n",
    "* Can be used to feed the `help()` command "
   ]
  },
  {
   "cell_type": "code",
   "execution_count": null,
   "metadata": {},
   "outputs": [
    {
     "ename": "",
     "evalue": "",
     "output_type": "error",
     "traceback": [
      "\u001b[1;31mFailed to start the Kernel. \n",
      "\u001b[1;31mOSError: [WinError 123] The filename, directory name, or volume label syntax is incorrect: '\"c:'. \n",
      "\u001b[1;31mView Jupyter <a href='command:jupyter.viewOutput'>log</a> for further details."
     ]
    }
   ],
   "source": [
    "def calc_subtotal(quantity, unit_cost):\n",
    "    '''\n",
    "    Computes subtotal for an order\n",
    "    '''\n",
    "    return quantity * unit_cost\n",
    "\n",
    "help(calc_subtotal)"
   ]
  },
  {
   "cell_type": "markdown",
   "metadata": {},
   "source": [
    "## ...functions return __`None`__ if return not invoked"
   ]
  },
  {
   "cell_type": "code",
   "execution_count": null,
   "metadata": {
    "scrolled": true
   },
   "outputs": [
    {
     "ename": "",
     "evalue": "",
     "output_type": "error",
     "traceback": [
      "\u001b[1;31mFailed to start the Kernel. \n",
      "\u001b[1;31mOSError: [WinError 123] The filename, directory name, or volume label syntax is incorrect: '\"c:'. \n",
      "\u001b[1;31mView Jupyter <a href='command:jupyter.viewOutput'>log</a> for further details."
     ]
    }
   ],
   "source": [
    "def myfunc(x):\n",
    "    print('do something', x)\n",
    "\n",
    "print(myfunc(35))"
   ]
  },
  {
   "cell_type": "markdown",
   "metadata": {},
   "source": [
    "## What is __`None`__?\n",
    "* It acts like __`False`__, but it's a different object"
   ]
  },
  {
   "cell_type": "code",
   "execution_count": null,
   "metadata": {},
   "outputs": [
    {
     "ename": "",
     "evalue": "",
     "output_type": "error",
     "traceback": [
      "\u001b[1;31mFailed to start the Kernel. \n",
      "\u001b[1;31mOSError: [WinError 123] The filename, directory name, or volume label syntax is incorrect: '\"c:'. \n",
      "\u001b[1;31mView Jupyter <a href='command:jupyter.viewOutput'>log</a> for further details."
     ]
    }
   ],
   "source": [
    "def myfunc(x):\n",
    "    print('do something', x)\n",
    "\n",
    "retval = myfunc(2)\n",
    "if retval:\n",
    "    print('True branch of if')\n",
    "else:\n",
    "    print('False branch of if')"
   ]
  },
  {
   "cell_type": "code",
   "execution_count": null,
   "metadata": {},
   "outputs": [
    {
     "ename": "",
     "evalue": "",
     "output_type": "error",
     "traceback": [
      "\u001b[1;31mFailed to start the Kernel. \n",
      "\u001b[1;31mOSError: [WinError 123] The filename, directory name, or volume label syntax is incorrect: '\"c:'. \n",
      "\u001b[1;31mView Jupyter <a href='command:jupyter.viewOutput'>log</a> for further details."
     ]
    }
   ],
   "source": [
    "def myfunc(x):\n",
    "    print('do something', x)\n",
    "\n",
    "retval = myfunc(2)\n",
    "\n",
    "if retval is None:\n",
    "    print('preferred over retval == None')\n",
    "if None == False:\n",
    "    print('no!')\n",
    "id(None), id(False)"
   ]
  },
  {
   "cell_type": "markdown",
   "metadata": {
    "slideshow": {
     "slide_type": "subslide"
    }
   },
   "source": [
    "## Scope \n",
    "* Python is _NOT_ block scoped"
   ]
  },
  {
   "cell_type": "code",
   "execution_count": null,
   "metadata": {
    "slideshow": {
     "slide_type": "subslide"
    }
   },
   "outputs": [
    {
     "ename": "",
     "evalue": "",
     "output_type": "error",
     "traceback": [
      "\u001b[1;31mFailed to start the Kernel. \n",
      "\u001b[1;31mOSError: [WinError 123] The filename, directory name, or volume label syntax is incorrect: '\"c:'. \n",
      "\u001b[1;31mView Jupyter <a href='command:jupyter.viewOutput'>log</a> for further details."
     ]
    }
   ],
   "source": [
    "if True:\n",
    "    x = 'global x' # x will persist outside this block\n",
    "\n",
    "print(\"outside the block, x =\", x)\n",
    "\n",
    "def func():\n",
    "    print(\"---> in func\")\n",
    "    x = 'func x' # declare var inside function\n",
    "    print(\"x =\", x)\n",
    "    d = locals()\n",
    "    print(\"local x =\", d['x'])\n",
    "    d = globals()\n",
    "    print(\"global x =\", d['x'])\n",
    "    print(\"---> leaving func\")\n",
    "\n",
    "func()\n",
    "\n",
    "print(\"in main, after func call, x =\", x)\n",
    "\n",
    "def func():\n",
    "    print(\"---> inside second func\")\n",
    "    # can access global variables here\n",
    "    # print(\"x =\", x)\n",
    "    # ...but to change them, we need to bind\n",
    "    # the name 'x' to the global var instead\n",
    "    # of a new local var...\n",
    "    global x\n",
    "    x = 'new global x'\n",
    "    print(\"x =\", x)\n",
    "    print(\"---> leaving second func, x =\", x)\n",
    "\n",
    "func()\n",
    "print(\"in main, after second func call, x =\", x)"
   ]
  },
  {
   "cell_type": "markdown",
   "metadata": {},
   "source": [
    "## Returning values from a function\n",
    "\n",
    "* In Python, you can return multiple values from a function\n",
    "* Wrap the return values in `()` and separate each with a comma\n",
    "* Returns what's known as a `tuple` in Python"
   ]
  },
  {
   "cell_type": "code",
   "execution_count": null,
   "metadata": {},
   "outputs": [
    {
     "ename": "",
     "evalue": "",
     "output_type": "error",
     "traceback": [
      "\u001b[1;31mFailed to start the Kernel. \n",
      "\u001b[1;31mOSError: [WinError 123] The filename, directory name, or volume label syntax is incorrect: '\"c:'. \n",
      "\u001b[1;31mView Jupyter <a href='command:jupyter.viewOutput'>log</a> for further details."
     ]
    }
   ],
   "source": [
    "def addmul(op1, op2):\n",
    "    return (op1 + op2, op1 * op2)\n",
    "\n",
    "sum, product = addmul(2.75, 13.2)\n",
    "print(sum)\n",
    "print(product)"
   ]
  },
  {
   "cell_type": "markdown",
   "metadata": {},
   "source": [
    "## Parameter default values\n",
    "\n",
    "* To give a parameter a default value, use assignment\n",
    "* Parameters given defaults can be omitted from calls to function\n",
    "* Omitted arguments will take on default value\n",
    "* When calling, arguments can be named - can help with readability"
   ]
  },
  {
   "cell_type": "code",
   "execution_count": null,
   "metadata": {},
   "outputs": [
    {
     "ename": "",
     "evalue": "",
     "output_type": "error",
     "traceback": [
      "\u001b[1;31mFailed to start the Kernel. \n",
      "\u001b[1;31mOSError: [WinError 123] The filename, directory name, or volume label syntax is incorrect: '\"c:'. \n",
      "\u001b[1;31mView Jupyter <a href='command:jupyter.viewOutput'>log</a> for further details."
     ]
    }
   ],
   "source": [
    "def connect(hostname, port, timeout = 300):\n",
    "    '''\n",
    "    Simulates connectivity to a host on a port \n",
    "    '''\n",
    "    print('Hitting...', end='')\n",
    "    print(f'{hostname}:{port}...', end='')\n",
    "    print(f'Finish before {timeout} milliseconds!!')\n",
    "    return\n",
    "\n",
    "connect('www.python.org', 80)\n",
    "connect('www.python.org', 80, 500)\n",
    "connect(timeout = 1000, hostname = 'www.python.org', port = 443)  # when named, order doesn't matter"
   ]
  },
  {
   "cell_type": "markdown",
   "metadata": {},
   "source": [
    "## Exercise One\n",
    "\n",
    "* Update your Python program for order processing\n",
    "* Create a function to handle the calculations\n",
    "* Call the function, passing the inputs from the user\n",
    "* Fully encapsulate the discount algorithm and calculations within the function\n",
    "* Return subtotal, total including tax, and final total after discount from the function\n"
   ]
  },
  {
   "cell_type": "markdown",
   "metadata": {},
   "source": [
    "## Exercise Two\n",
    "\n",
    "* Create a function called circleinfo for calculating area and circumference of a circle\n",
    "* The function should accept a parameter for radius\n",
    "* Return area and circumference from the function\n",
    "* Area is calculated as Pi * radius * radius\n",
    "* Circumference is calculated as 2 * Pi * radius\n",
    "* **Hint**: Use math.pi() to get the value for Pi in the formulae (https://www.delftstack.com/howto/python/pi-in-python/#:~:text=Use%20Pi%20in%20Python.%201%20Use%20the%20math.pi,to%20Get%20the%20Pi%20Value%20in%20Python.%20)"
   ]
  },
  {
   "cell_type": "code",
   "execution_count": 6,
   "metadata": {},
   "outputs": [
    {
     "name": "stdout",
     "output_type": "stream",
     "text": [
      "('Area = ', 78.53981633974483)\n",
      "('Circumference = ', 31.41592653589793)\n"
     ]
    }
   ],
   "source": [
    "import math\n",
    "\n",
    "def circleinfo(radius):\n",
    "    area = math.pi * pow(radius,2)\n",
    "    circumference = 2 * math.pi * radius \n",
    "    print((\"Area = \" , area))\n",
    "    print((\"Circumference = \" , circumference))\n",
    "\n",
    "circleinfo(5)"
   ]
  }
 ],
 "metadata": {
  "celltoolbar": "Slideshow",
  "kernelspec": {
   "display_name": "Python 3.9.7 64-bit",
   "language": "python",
   "name": "python3"
  },
  "language_info": {
   "codemirror_mode": {
    "name": "ipython",
    "version": 3
   },
   "file_extension": ".py",
   "mimetype": "text/x-python",
   "name": "python",
   "nbconvert_exporter": "python",
   "pygments_lexer": "ipython3",
   "version": "3.9.7"
  },
  "vscode": {
   "interpreter": {
    "hash": "81794d4967e6c3204c66dcd87b604927b115b27c00565d3d43f05ba2f3a2cb0d"
   }
  }
 },
 "nbformat": 4,
 "nbformat_minor": 1
}
