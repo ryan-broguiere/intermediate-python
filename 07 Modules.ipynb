{
 "cells": [
  {
   "cell_type": "markdown",
   "metadata": {
    "slideshow": {
     "slide_type": "subslide"
    }
   },
   "source": [
    "# Python Modules\n",
    "* just files of Python code\n",
    "* export variables, functions, and/or classes"
   ]
  },
  {
   "cell_type": "code",
   "execution_count": 4,
   "metadata": {
    "slideshow": {
     "slide_type": "subslide"
    }
   },
   "outputs": [
    {
     "name": "stdout",
     "output_type": "stream",
     "text": [
      "__name__ = __main__\n",
      "success\n"
     ]
    }
   ],
   "source": [
    "# this code lives in mymodule.py\n",
    "def dummy():\n",
    "    return 45\n",
    "   \n",
    "public_data = \"public stuff!\"\n",
    "_private_data = \"private stuff!\"\n",
    "print('__name__ =', __name__)\n",
    "\n",
    "# If this code is being *run*, then __name__ will be '__main__'\n",
    "if __name__ == '__main__':\n",
    "    # test dummy\n",
    "    if dummy() == 45:\n",
    "        print('success')"
   ]
  },
  {
   "cell_type": "code",
   "execution_count": 5,
   "metadata": {
    "scrolled": true
   },
   "outputs": [
    {
     "name": "stdout",
     "output_type": "stream",
     "text": [
      "__name__ = __main__\r\n",
      "success\r\n"
     ]
    }
   ],
   "source": [
    "!python3 mymodule.py\n",
    "# The above runs a command in the shell, outside of the notebook"
   ]
  },
  {
   "cell_type": "code",
   "execution_count": 7,
   "metadata": {},
   "outputs": [
    {
     "data": {
      "text/plain": [
       "45"
      ]
     },
     "execution_count": 7,
     "metadata": {},
     "output_type": "execute_result"
    }
   ],
   "source": [
    "import mymodule\n",
    "mymodule.dummy() # must preface identifiers with module name"
   ]
  },
  {
   "cell_type": "code",
   "execution_count": 4,
   "metadata": {},
   "outputs": [
    {
     "data": {
      "text/plain": [
       "['In',\n",
       " 'Out',\n",
       " '_',\n",
       " '_3',\n",
       " '__',\n",
       " '___',\n",
       " '__builtin__',\n",
       " '__builtins__',\n",
       " '__doc__',\n",
       " '__loader__',\n",
       " '__name__',\n",
       " '__package__',\n",
       " '__spec__',\n",
       " '_dh',\n",
       " '_exit_code',\n",
       " '_i',\n",
       " '_i1',\n",
       " '_i2',\n",
       " '_i3',\n",
       " '_i4',\n",
       " '_ih',\n",
       " '_ii',\n",
       " '_iii',\n",
       " '_oh',\n",
       " '_private_data',\n",
       " 'dummy',\n",
       " 'exit',\n",
       " 'get_ipython',\n",
       " 'mymodule',\n",
       " 'os',\n",
       " 'public_data',\n",
       " 'quit',\n",
       " 'sys']"
      ]
     },
     "execution_count": 4,
     "metadata": {},
     "output_type": "execute_result"
    }
   ],
   "source": [
    "dir()"
   ]
  },
  {
   "cell_type": "code",
   "execution_count": 5,
   "metadata": {},
   "outputs": [
    {
     "data": {
      "text/plain": [
       "('private stuff!', 'public stuff!')"
      ]
     },
     "execution_count": 5,
     "metadata": {},
     "output_type": "execute_result"
    }
   ],
   "source": [
    "mymodule._private_data, mymodule.public_data"
   ]
  },
  {
   "cell_type": "code",
   "execution_count": 8,
   "metadata": {
    "scrolled": true,
    "slideshow": {
     "slide_type": "subslide"
    }
   },
   "outputs": [
    {
     "data": {
      "text/plain": [
       "['In',\n",
       " 'Out',\n",
       " '_',\n",
       " '_3',\n",
       " '_6',\n",
       " '_7',\n",
       " '__',\n",
       " '___',\n",
       " '__builtin__',\n",
       " '__builtins__',\n",
       " '__doc__',\n",
       " '__loader__',\n",
       " '__name__',\n",
       " '__package__',\n",
       " '__spec__',\n",
       " '_dh',\n",
       " '_exit_code',\n",
       " '_i',\n",
       " '_i1',\n",
       " '_i2',\n",
       " '_i3',\n",
       " '_i4',\n",
       " '_i5',\n",
       " '_i6',\n",
       " '_i7',\n",
       " '_i8',\n",
       " '_ih',\n",
       " '_ii',\n",
       " '_iii',\n",
       " '_oh',\n",
       " '_private_data',\n",
       " 'dummy',\n",
       " 'exit',\n",
       " 'get_ipython',\n",
       " 'mymodule',\n",
       " 'public_data',\n",
       " 'quit',\n",
       " 'thismodule_data']"
      ]
     },
     "execution_count": 8,
     "metadata": {},
     "output_type": "execute_result"
    }
   ],
   "source": [
    "from mymodule import public_data as thismodule_data\n",
    "dir()"
   ]
  },
  {
   "cell_type": "code",
   "execution_count": 7,
   "metadata": {},
   "outputs": [
    {
     "data": {
      "text/plain": [
       "['/salesforce/specific/dir',\n",
       " '/home/sysadmin/source/repos/intermediate-python',\n",
       " '/home/sysadmin/.vscode-server/extensions/ms-toolsai.jupyter-2021.8.2041215044/pythonFiles',\n",
       " '/home/sysadmin/.vscode-server/extensions/ms-toolsai.jupyter-2021.8.2041215044/pythonFiles/lib/python',\n",
       " '/usr/lib/python38.zip',\n",
       " '/usr/lib/python3.8',\n",
       " '/usr/lib/python3.8/lib-dynload',\n",
       " '',\n",
       " '/home/sysadmin/.local/share/virtualenvs/py-yield-Jt80a98q/lib/python3.8/site-packages',\n",
       " '/home/sysadmin/.local/share/virtualenvs/py-yield-Jt80a98q/lib/python3.8/site-packages/IPython/extensions',\n",
       " '/home/sysadmin/.ipython']"
      ]
     },
     "execution_count": 7,
     "metadata": {},
     "output_type": "execute_result"
    }
   ],
   "source": [
    "import sys\n",
    "sys.path.insert(0, '/salesforce/specific/dir')\n",
    "sys.path"
   ]
  }
 ],
 "metadata": {
  "celltoolbar": "Slideshow",
  "interpreter": {
   "hash": "8464311b6cd02531cc83d752491de256d0b522e7c388c7b72d58a29deff5d2dd"
  },
  "kernelspec": {
   "display_name": "Python 3 (ipykernel)",
   "language": "python",
   "name": "python3"
  },
  "language_info": {
   "codemirror_mode": {
    "name": "ipython",
    "version": 3
   },
   "file_extension": ".py",
   "mimetype": "text/x-python",
   "name": "python",
   "nbconvert_exporter": "python",
   "pygments_lexer": "ipython3",
   "version": "3.8.10"
  }
 },
 "nbformat": 4,
 "nbformat_minor": 1
}
