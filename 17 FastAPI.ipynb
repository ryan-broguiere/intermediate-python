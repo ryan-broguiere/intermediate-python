{
 "cells": [
  {
   "cell_type": "markdown",
   "metadata": {
    "slideshow": {
     "slide_type": "slide"
    }
   },
   "source": [
    "# FastAPI"
   ]
  },
  {
   "cell_type": "markdown",
   "metadata": {
    "slideshow": {
     "slide_type": "subslide"
    }
   },
   "source": [
    "### FastAPI\n",
    "* A modern, fast (high-performance) web FW for building APIs with Python\n",
    "* https://fastapi.tiangolo.com/\n",
    "* First step is to install - 'pip install fastapi[all]' to include all optional dependencies and features\n",
    "* Also includes 'uvicorn' (provides server for running code)"
   ]
  },
  {
   "cell_type": "code",
   "execution_count": null,
   "metadata": {},
   "outputs": [],
   "source": [
    "### Hello, world!\n",
    "from fastapi import FastAPI\n",
    "\n",
    "app = FastAPI()\n",
    "\n",
    "@app.get(\"/\")\n",
    "async def root():\n",
    "    return {'message': 'Hello World'}"
   ]
  },
  {
   "cell_type": "markdown",
   "metadata": {},
   "source": [
    "* Run the server using `uvicorn <filename>:app --reload`\n",
    "* `<filename>` is the Python \"module\"\n",
    "* `:app` is the Python object containing the FastAPI instance\n",
    "* `--reload` (used for development / causes server restart as code changes)\n",
    "* Use http://127.0.0.1:8000 to access GET path to base request\n",
    "* Use http://127.0.0.1:8000/docs to access Swagger UI for API\n",
    "* Allows testing of API in a graphical way"
   ]
  },
  {
   "cell_type": "markdown",
   "metadata": {},
   "source": [
    "* FastAPI uses OpenAPI to define a schema for your API (Application Programming Interface)\n",
    "* Includes definitions of format for data expected to be sent to and returned from your API\n",
    "* Uses \"JSON Schema\" which is a standard for JSON-based data\n",
    "* FastAPI automatically generates a JSON schema that can be viewed at http://127.0.0.1:8000/openapi.json\n",
    "* Used to build out the graphical Swagger UI for testing; can also be used for validation"
   ]
  },
  {
   "cell_type": "code",
   "execution_count": 1,
   "metadata": {},
   "outputs": [],
   "source": [
    "from pydantic import BaseModel\n",
    "\n",
    "class Customer(BaseModel):\n",
    "    '''\n",
    "    Uses pydantic to manage model + serialization to/from JSON\n",
    "    '''\n",
    "    id: int\n",
    "    first_name: str\n",
    "    last_name: str\n",
    "    address: str\n",
    "    city: str\n",
    "    state: str\n",
    "    zip: str"
   ]
  },
  {
   "cell_type": "markdown",
   "metadata": {},
   "source": [
    "* REST (Representational State Transfer) defines standards for accessing resources via URI\n",
    "* Access to a \"thing\" in REST is driven through a path\n",
    "* That path can access top-level (like `/`) or it can drill down into a resource hierarchy\n",
    "* `/customers/1` (for retrieving customer 1), `/customers` (for retrieving all customers), or `/customers/1/orders` for retrieving customer 1's orders\n",
    "* REST utilizes a set of verbs that we can use to dictate the type of action we want to take; most common include:\n",
    "    - GET\n",
    "    - POST\n",
    "    - PUT\n",
    "    - DELETE\n",
    "* REST requests can report back various status codes indicating success or failure\n",
    "\n",
    "https://restfulapi.net/\n",
    "\n",
    "https://www.developer.com/web-services/best-practices-restful-api"
   ]
  },
  {
   "cell_type": "markdown",
   "metadata": {},
   "source": [
    "* In our Python code, we use a combination of decorator and method\n",
    "* For example, `@app.get()`, `@app.post()`, `@app.put()`, and `@app.delete()`\n",
    "* Apply to method that defines logic for route"
   ]
  },
  {
   "cell_type": "code",
   "execution_count": null,
   "metadata": {},
   "outputs": [],
   "source": [
    "import uvicorn\n",
    "from fastapi import FastAPI, Request\n",
    "from order_system.database.database import Database\n",
    "from order_system.models.customer import Customer\n",
    "from typing import List\n",
    "\n",
    "app = FastAPI()\n",
    "\n",
    "database = Database()\n",
    "\n",
    "@app.get(\"/\")\n",
    "async def root():\n",
    "    return {'message': 'Hello World!!'}\n",
    "\n",
    "@app.post(\"/customers\")\n",
    "async def insert_customer(customer: Customer):\n",
    "    database.insert_customer(customer)\n",
    "    return customer\n",
    "\n",
    "@app.get(\"/customers/{id}\")\n",
    "async def get_customer_by_id(id):\n",
    "    customer = database.get_by_id(id)\n",
    "    if customer:\n",
    "        return database.get_by_id(id)\n",
    "    else:\n",
    "        return {}\n",
    "\n",
    "@app.get('/customers', response_model=List[Customer])\n",
    "async def get_all_customers():\n",
    "    return database.get_all()\n",
    "\n",
    "@app.put('/customers/{id}')\n",
    "async def update_customer(id, body: Customer):\n",
    "    if database.update_customer(id, body):\n",
    "        return {'message': 'Customer updated successfully'}\n",
    "    else:\n",
    "        return {'message': 'Customer not found'}\n",
    "\n",
    "@app.delete('/customers/{id}')\n",
    "async def delete_customer(id):\n",
    "    if database.delete_customer(id):\n",
    "        return {'message': 'Customer deleted successfully'}\n",
    "    else:\n",
    "        return {'message': 'Customer not found'}\n",
    "\n",
    "if __name__ == \"__main__\":\n",
    "    uvicorn.run(app, host=\"0.0.0.0\", port=5000)"
   ]
  },
  {
   "cell_type": "markdown",
   "metadata": {},
   "source": [
    "## Lab: API using FastAPI\n",
    "\n",
    "* Using the customers example as a template, create a new API for bank accounts\n",
    "* Include properties of your choosing to represent but make sure the account has a unique id\n",
    "* Use an in-memory dictionary (similar to the example) for data storage\n",
    "* Test each route using the `/docs` endpoint on the running API"
   ]
  }
 ],
 "metadata": {
  "celltoolbar": "Slideshow",
  "interpreter": {
   "hash": "8464311b6cd02531cc83d752491de256d0b522e7c388c7b72d58a29deff5d2dd"
  },
  "kernelspec": {
   "display_name": "Python 3 (ipykernel)",
   "language": "python",
   "name": "python3"
  },
  "language_info": {
   "codemirror_mode": {
    "name": "ipython",
    "version": 3
   },
   "file_extension": ".py",
   "mimetype": "text/x-python",
   "name": "python",
   "nbconvert_exporter": "python",
   "pygments_lexer": "ipython3",
   "version": "3.8.10"
  }
 },
 "nbformat": 4,
 "nbformat_minor": 2
}
